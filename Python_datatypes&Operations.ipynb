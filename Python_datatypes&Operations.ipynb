{
  "nbformat": 4,
  "nbformat_minor": 0,
  "metadata": {
    "colab": {
      "provenance": [],
      "collapsed_sections": [
        "Fq8-CJQRbOwz",
        "AsOOJJxfbfmo",
        "E6-le5Sdb0pu",
        "5kqHtOs0cT5u",
        "0oufs6v2fiO6",
        "nNnL7nMVkAYU",
        "SkKXaLvd1Jaz",
        "R5rEWAEK5tyT"
      ]
    },
    "kernelspec": {
      "name": "python3",
      "display_name": "Python 3"
    },
    "language_info": {
      "name": "python"
    }
  },
  "cells": [
    {
      "cell_type": "markdown",
      "source": [
        "#print function"
      ],
      "metadata": {
        "id": "Fq8-CJQRbOwz"
      }
    },
    {
      "cell_type": "code",
      "execution_count": 8,
      "metadata": {
        "colab": {
          "base_uri": "https://localhost:8080/"
        },
        "id": "4f8ZBZWcakNo",
        "outputId": "4dab0813-e139-44d6-e834-549f9ea0a570"
      },
      "outputs": [
        {
          "output_type": "stream",
          "name": "stdout",
          "text": [
            "machine learning\n"
          ]
        }
      ],
      "source": [
        "print(\"machine learning\")"
      ]
    },
    {
      "cell_type": "markdown",
      "source": [
        "prog lang for ml\n",
        "1.python\n",
        "2.r"
      ],
      "metadata": {
        "id": "ML_7Teegam_f"
      }
    },
    {
      "cell_type": "code",
      "source": [
        "print(\"machine learning\"+\"project\")"
      ],
      "metadata": {
        "colab": {
          "base_uri": "https://localhost:8080/"
        },
        "id": "CIP2mBHJa1Or",
        "outputId": "51736a8e-d4af-46bc-d2a6-d6b30ce3f3c9"
      },
      "execution_count": 2,
      "outputs": [
        {
          "output_type": "stream",
          "name": "stdout",
          "text": [
            "machine learningproject\n"
          ]
        }
      ]
    },
    {
      "cell_type": "code",
      "source": [
        "print(8+3)"
      ],
      "metadata": {
        "colab": {
          "base_uri": "https://localhost:8080/"
        },
        "id": "XPf9pG7vbCzg",
        "outputId": "ea16c964-f2a9-40b9-a334-c47fdfdaffaf"
      },
      "execution_count": 3,
      "outputs": [
        {
          "output_type": "stream",
          "name": "stdout",
          "text": [
            "11\n"
          ]
        }
      ]
    },
    {
      "cell_type": "markdown",
      "source": [
        "# basic data types\n",
        " 1. int\n",
        " 2. float\n",
        " 3. str\n",
        " 4. boolean\n",
        " 5. complex"
      ],
      "metadata": {
        "id": "AsOOJJxfbfmo"
      }
    },
    {
      "cell_type": "code",
      "source": [
        "f= 1+3j\n",
        "type(f)"
      ],
      "metadata": {
        "colab": {
          "base_uri": "https://localhost:8080/"
        },
        "id": "dAPlxvnveqPX",
        "outputId": "7811ec71-cf0b-4bd9-d0e7-82f31d5ab813"
      },
      "execution_count": 16,
      "outputs": [
        {
          "output_type": "execute_result",
          "data": {
            "text/plain": [
              "complex"
            ]
          },
          "metadata": {},
          "execution_count": 16
        }
      ]
    },
    {
      "cell_type": "code",
      "source": [
        "type(\"suman\")"
      ],
      "metadata": {
        "colab": {
          "base_uri": "https://localhost:8080/"
        },
        "id": "62Kk8a7BbZ_n",
        "outputId": "e87109fc-2376-43e5-f076-703a881a063c"
      },
      "execution_count": 4,
      "outputs": [
        {
          "output_type": "execute_result",
          "data": {
            "text/plain": [
              "str"
            ]
          },
          "metadata": {},
          "execution_count": 4
        }
      ]
    },
    {
      "cell_type": "markdown",
      "source": [
        "# assigning"
      ],
      "metadata": {
        "id": "E6-le5Sdb0pu"
      }
    },
    {
      "cell_type": "code",
      "source": [
        "a,b,c=3,4,5\n",
        "print(a + \" \" )"
      ],
      "metadata": {
        "colab": {
          "base_uri": "https://localhost:8080/",
          "height": 198
        },
        "id": "TvUeaKSAbp1I",
        "outputId": "869cac9b-f4e5-4083-a4cd-91c9a79ce6fa"
      },
      "execution_count": 5,
      "outputs": [
        {
          "output_type": "error",
          "ename": "TypeError",
          "evalue": "unsupported operand type(s) for +: 'int' and 'str'",
          "traceback": [
            "\u001b[0;31m---------------------------------------------------------------------------\u001b[0m",
            "\u001b[0;31mTypeError\u001b[0m                                 Traceback (most recent call last)",
            "\u001b[0;32m<ipython-input-5-c958a71057cf>\u001b[0m in \u001b[0;36m<cell line: 2>\u001b[0;34m()\u001b[0m\n\u001b[1;32m      1\u001b[0m \u001b[0ma\u001b[0m\u001b[0;34m,\u001b[0m\u001b[0mb\u001b[0m\u001b[0;34m,\u001b[0m\u001b[0mc\u001b[0m\u001b[0;34m=\u001b[0m\u001b[0;36m3\u001b[0m\u001b[0;34m,\u001b[0m\u001b[0;36m4\u001b[0m\u001b[0;34m,\u001b[0m\u001b[0;36m5\u001b[0m\u001b[0;34m\u001b[0m\u001b[0;34m\u001b[0m\u001b[0m\n\u001b[0;32m----> 2\u001b[0;31m \u001b[0mprint\u001b[0m\u001b[0;34m(\u001b[0m\u001b[0ma\u001b[0m \u001b[0;34m+\u001b[0m \u001b[0;34m\" \"\u001b[0m \u001b[0;34m+\u001b[0m \u001b[0mb\u001b[0m\u001b[0;34m+\u001b[0m\u001b[0mc\u001b[0m\u001b[0;34m)\u001b[0m\u001b[0;34m\u001b[0m\u001b[0;34m\u001b[0m\u001b[0m\n\u001b[0m",
            "\u001b[0;31mTypeError\u001b[0m: unsupported operand type(s) for +: 'int' and 'str'"
          ]
        }
      ]
    },
    {
      "cell_type": "markdown",
      "source": [
        "# input fxn"
      ],
      "metadata": {
        "id": "5kqHtOs0cT5u"
      }
    },
    {
      "cell_type": "code",
      "source": [
        "d = input(\"enter 1st number : \")\n",
        "print(d)"
      ],
      "metadata": {
        "colab": {
          "base_uri": "https://localhost:8080/"
        },
        "id": "11wmt7snb_to",
        "outputId": "8e733fbf-7ead-4ea4-f73e-e6e9819e82ba"
      },
      "execution_count": 10,
      "outputs": [
        {
          "output_type": "stream",
          "name": "stdout",
          "text": [
            "enter 1st number : 5\n",
            "5\n"
          ]
        }
      ]
    },
    {
      "cell_type": "code",
      "source": [
        "d = input(\"enter 1st number : \")\n",
        "e = input(\"enter 2nd number : \")\n",
        "\n",
        "print(d+e)"
      ],
      "metadata": {
        "colab": {
          "base_uri": "https://localhost:8080/"
        },
        "id": "2ekvNW7_c2cX",
        "outputId": "768ccc3d-c42a-4be6-c05d-b3f506ab432a"
      },
      "execution_count": 11,
      "outputs": [
        {
          "output_type": "stream",
          "name": "stdout",
          "text": [
            "enter 1st number : 2\n",
            "enter 2nd number : 3\n",
            "23\n"
          ]
        }
      ]
    },
    {
      "cell_type": "code",
      "source": [
        "d = int(input(\"enter 1st number : \"))\n",
        "e = int(input(\"enter 2nd number : \"))\n",
        "\n",
        "print(d+e)"
      ],
      "metadata": {
        "colab": {
          "base_uri": "https://localhost:8080/"
        },
        "id": "knIs_aRZdzLn",
        "outputId": "23de04d1-9728-4267-eaf2-acc451640667"
      },
      "execution_count": 14,
      "outputs": [
        {
          "output_type": "stream",
          "name": "stdout",
          "text": [
            "enter 1st number : 2\n",
            "enter 2nd number : 3\n",
            "5\n"
          ]
        }
      ]
    },
    {
      "cell_type": "markdown",
      "source": [
        "# string"
      ],
      "metadata": {
        "id": "0oufs6v2fiO6"
      }
    },
    {
      "cell_type": "code",
      "source": [
        "print(\"hello\"*5)"
      ],
      "metadata": {
        "colab": {
          "base_uri": "https://localhost:8080/"
        },
        "id": "sc_o0k4-fhmT",
        "outputId": "92138fcc-4e42-44b8-9e52-93caeba64e9d"
      },
      "execution_count": 19,
      "outputs": [
        {
          "output_type": "stream",
          "name": "stdout",
          "text": [
            "hellohellohellohellohello\n"
          ]
        }
      ]
    },
    {
      "cell_type": "code",
      "source": [
        "print(\"programming\"[1:5])"
      ],
      "metadata": {
        "colab": {
          "base_uri": "https://localhost:8080/"
        },
        "id": "GD-2GCdPfpDG",
        "outputId": "c09de794-3f28-4501-85cf-348d45071a6f"
      },
      "execution_count": 20,
      "outputs": [
        {
          "output_type": "stream",
          "name": "stdout",
          "text": [
            "rogr\n"
          ]
        }
      ]
    },
    {
      "cell_type": "code",
      "source": [
        "print(\"programming\"[1:5:2])"
      ],
      "metadata": {
        "colab": {
          "base_uri": "https://localhost:8080/"
        },
        "id": "8TnXODVkjmb7",
        "outputId": "7e857931-17ce-429c-a53f-12409a310570"
      },
      "execution_count": 21,
      "outputs": [
        {
          "output_type": "stream",
          "name": "stdout",
          "text": [
            "rg\n"
          ]
        }
      ]
    },
    {
      "cell_type": "markdown",
      "source": [
        "# List, Tupple, Set, Dictionary\n",
        "1. list - mutable, ordered, indexed, allows duplicates"
      ],
      "metadata": {
        "id": "nNnL7nMVkAYU"
      }
    },
    {
      "cell_type": "code",
      "source": [
        "mylist = [1,2,3,4,5]\n",
        "type(mylist)"
      ],
      "metadata": {
        "colab": {
          "base_uri": "https://localhost:8080/"
        },
        "id": "DPNU3UC7j_nH",
        "outputId": "7624cfa2-fe06-4b63-bb63-e56f40495598"
      },
      "execution_count": 22,
      "outputs": [
        {
          "output_type": "execute_result",
          "data": {
            "text/plain": [
              "list"
            ]
          },
          "metadata": {},
          "execution_count": 22
        }
      ]
    },
    {
      "cell_type": "markdown",
      "source": [
        "lists can store multiple data type together"
      ],
      "metadata": {
        "id": "ztcu8xci6dRc"
      }
    },
    {
      "cell_type": "code",
      "source": [
        "mylist = [1,2,3,\"rupdip\", True]\n",
        "print(mylist)"
      ],
      "metadata": {
        "colab": {
          "base_uri": "https://localhost:8080/"
        },
        "id": "bMZnZ3VBklr2",
        "outputId": "4d8b9e04-9782-4bd7-d3c4-e239f75eca9e"
      },
      "execution_count": 23,
      "outputs": [
        {
          "output_type": "stream",
          "name": "stdout",
          "text": [
            "[1, 2, 3, 'rupdip', True]\n"
          ]
        }
      ]
    },
    {
      "cell_type": "markdown",
      "source": [
        "lits are mutable\n",
        "Adding elements to a list"
      ],
      "metadata": {
        "id": "YaaMBMha6xSL"
      }
    },
    {
      "cell_type": "code",
      "source": [
        "mylist = [1,2,3,\"rupdip\", True]\n",
        "mylist.append(6)\n",
        "print(mylist)\n",
        "print(mylist[3])"
      ],
      "metadata": {
        "colab": {
          "base_uri": "https://localhost:8080/"
        },
        "id": "8LbptYkx6n27",
        "outputId": "df8bb92e-bb64-46b5-d278-7278d1953c59"
      },
      "execution_count": 25,
      "outputs": [
        {
          "output_type": "stream",
          "name": "stdout",
          "text": [
            "[1, 2, 3, 'rupdip', True, 6]\n",
            "rupdip\n"
          ]
        }
      ]
    },
    {
      "cell_type": "markdown",
      "source": [
        "list allows duplicate values.\n",
        "\n",
        "deleting items"
      ],
      "metadata": {
        "id": "AfSCqSes7Qoo"
      }
    },
    {
      "cell_type": "code",
      "source": [
        "print(len(mylist))\n",
        "del mylist[3]\n",
        "print(mylist)"
      ],
      "metadata": {
        "colab": {
          "base_uri": "https://localhost:8080/"
        },
        "id": "Qdq8hRYp69ix",
        "outputId": "339ca8dd-e552-4290-d427-572fd3f0fdf6"
      },
      "execution_count": 28,
      "outputs": [
        {
          "output_type": "stream",
          "name": "stdout",
          "text": [
            "6\n",
            "[1, 2, 3, True, 6]\n"
          ]
        }
      ]
    },
    {
      "cell_type": "markdown",
      "source": [
        "2. TUPPLE - ordered, immutable, indexed, allows duplicates"
      ],
      "metadata": {
        "id": "A217yZw48jgO"
      }
    },
    {
      "cell_type": "code",
      "source": [
        "tuple1 = (1,2,3,4)\n",
        "print(tuple1)"
      ],
      "metadata": {
        "colab": {
          "base_uri": "https://localhost:8080/"
        },
        "id": "dwxLrXMe8ixE",
        "outputId": "2a389218-53c1-4da6-fb19-9b247592fbc0"
      },
      "execution_count": 29,
      "outputs": [
        {
          "output_type": "stream",
          "name": "stdout",
          "text": [
            "(1, 2, 3, 4)\n"
          ]
        }
      ]
    },
    {
      "cell_type": "markdown",
      "source": [
        "list to tuple"
      ],
      "metadata": {
        "id": "YAC3j_0ayXaq"
      }
    },
    {
      "cell_type": "code",
      "source": [
        "mylist = [1,2,3,\"rupdip\", True]\n",
        "tuple2 = tuple(mylist)\n",
        "print(tuple2)"
      ],
      "metadata": {
        "colab": {
          "base_uri": "https://localhost:8080/"
        },
        "id": "lIoyRs-myb-n",
        "outputId": "09dfd626-6791-4da6-cc87-667743b96f1a"
      },
      "execution_count": 1,
      "outputs": [
        {
          "output_type": "stream",
          "name": "stdout",
          "text": [
            "(1, 2, 3, 'rupdip', True)\n"
          ]
        }
      ]
    },
    {
      "cell_type": "markdown",
      "source": [
        "Tuples are immutable"
      ],
      "metadata": {
        "id": "7ZHGmb8FyzQK"
      }
    },
    {
      "cell_type": "code",
      "source": [
        "tuple2.append(6)"
      ],
      "metadata": {
        "colab": {
          "base_uri": "https://localhost:8080/",
          "height": 180
        },
        "id": "ccTnp9QByjWr",
        "outputId": "8f11065f-65b8-46be-9bac-0793ea4cc435"
      },
      "execution_count": 2,
      "outputs": [
        {
          "output_type": "error",
          "ename": "AttributeError",
          "evalue": "'tuple' object has no attribute 'append'",
          "traceback": [
            "\u001b[0;31m---------------------------------------------------------------------------\u001b[0m",
            "\u001b[0;31mAttributeError\u001b[0m                            Traceback (most recent call last)",
            "\u001b[0;32m<ipython-input-2-fbd162b1ad2a>\u001b[0m in \u001b[0;36m<cell line: 1>\u001b[0;34m()\u001b[0m\n\u001b[0;32m----> 1\u001b[0;31m \u001b[0mtuple2\u001b[0m\u001b[0;34m.\u001b[0m\u001b[0mappend\u001b[0m\u001b[0;34m(\u001b[0m\u001b[0;36m6\u001b[0m\u001b[0;34m)\u001b[0m\u001b[0;34m\u001b[0m\u001b[0;34m\u001b[0m\u001b[0m\n\u001b[0m",
            "\u001b[0;31mAttributeError\u001b[0m: 'tuple' object has no attribute 'append'"
          ]
        }
      ]
    },
    {
      "cell_type": "code",
      "source": [
        "print(len(tuple2))"
      ],
      "metadata": {
        "colab": {
          "base_uri": "https://localhost:8080/"
        },
        "id": "HjpjYAozy3tF",
        "outputId": "952d35bd-8cb2-4f63-9197-f8515a05345c"
      },
      "execution_count": 3,
      "outputs": [
        {
          "output_type": "stream",
          "name": "stdout",
          "text": [
            "5\n"
          ]
        }
      ]
    },
    {
      "cell_type": "markdown",
      "source": [
        "3. Set - mutable, unordered, unindexed, no duplicates\n"
      ],
      "metadata": {
        "id": "p2bLZ7L5zCYm"
      }
    },
    {
      "cell_type": "code",
      "source": [
        "  set1={1,2,3,4}\n",
        "  print(set)"
      ],
      "metadata": {
        "colab": {
          "base_uri": "https://localhost:8080/"
        },
        "id": "rCAkFiKVy_8A",
        "outputId": "daa34b3a-d876-40a0-c2e7-a77acdefeb04"
      },
      "execution_count": 5,
      "outputs": [
        {
          "output_type": "stream",
          "name": "stdout",
          "text": [
            "{1, 2, 3, 4}\n"
          ]
        }
      ]
    },
    {
      "cell_type": "markdown",
      "source": [
        "unindexed"
      ],
      "metadata": {
        "id": "VM-8RPj4zwzY"
      }
    },
    {
      "cell_type": "code",
      "source": [
        "print(set1[0])"
      ],
      "metadata": {
        "colab": {
          "base_uri": "https://localhost:8080/",
          "height": 180
        },
        "id": "Z1ivcvAaznPh",
        "outputId": "214d8e24-2f8f-47e9-e344-8675e758a5f9"
      },
      "execution_count": 6,
      "outputs": [
        {
          "output_type": "error",
          "ename": "TypeError",
          "evalue": "'set' object is not subscriptable",
          "traceback": [
            "\u001b[0;31m---------------------------------------------------------------------------\u001b[0m",
            "\u001b[0;31mTypeError\u001b[0m                                 Traceback (most recent call last)",
            "\u001b[0;32m<ipython-input-6-ca90c6e7048b>\u001b[0m in \u001b[0;36m<cell line: 1>\u001b[0;34m()\u001b[0m\n\u001b[0;32m----> 1\u001b[0;31m \u001b[0mprint\u001b[0m\u001b[0;34m(\u001b[0m\u001b[0mset1\u001b[0m\u001b[0;34m[\u001b[0m\u001b[0;36m0\u001b[0m\u001b[0;34m]\u001b[0m\u001b[0;34m)\u001b[0m\u001b[0;34m\u001b[0m\u001b[0;34m\u001b[0m\u001b[0m\n\u001b[0m",
            "\u001b[0;31mTypeError\u001b[0m: 'set' object is not subscriptable"
          ]
        }
      ]
    },
    {
      "cell_type": "markdown",
      "source": [
        "set doesnt allow duplicate values"
      ],
      "metadata": {
        "id": "EX6in1ii0Bao"
      }
    },
    {
      "cell_type": "code",
      "source": [
        "set1={1,2,3,4,1}\n",
        "print(set1)"
      ],
      "metadata": {
        "colab": {
          "base_uri": "https://localhost:8080/"
        },
        "id": "OBV0mx7gzvcd",
        "outputId": "030c5234-3411-4de4-cee9-6e0e3ff46942"
      },
      "execution_count": 7,
      "outputs": [
        {
          "output_type": "stream",
          "name": "stdout",
          "text": [
            "{1, 2, 3, 4}\n"
          ]
        }
      ]
    },
    {
      "cell_type": "markdown",
      "source": [
        "4. Dictionary - mutable, ordered, key value pair, no duplicates"
      ],
      "metadata": {
        "id": "FkK2hsOE0LwD"
      }
    },
    {
      "cell_type": "code",
      "source": [
        "dict1 = {'name': 'rupdip', 'age': 21, \"country\": \"india\", }\n",
        "print(dict1)\n",
        "print(dict1['name'])"
      ],
      "metadata": {
        "colab": {
          "base_uri": "https://localhost:8080/"
        },
        "id": "1xdwkgmJ0IQf",
        "outputId": "41b2071c-384f-4471-bcbc-b654145c7a88"
      },
      "execution_count": 8,
      "outputs": [
        {
          "output_type": "stream",
          "name": "stdout",
          "text": [
            "{'name': 'rupdip', 'age': 21, 'country': 'india'}\n",
            "rupdip\n"
          ]
        }
      ]
    },
    {
      "cell_type": "markdown",
      "source": [
        "no duplicate values and stores the last value only"
      ],
      "metadata": {
        "id": "aCh-JqKP0-xP"
      }
    },
    {
      "cell_type": "code",
      "source": [
        "dict1 = {'name': 'rupdip', 'age': 21, \"country\": \"india\", 'name': 'maa' }\n",
        "print(dict1)"
      ],
      "metadata": {
        "colab": {
          "base_uri": "https://localhost:8080/"
        },
        "id": "UzhfXWW00rXG",
        "outputId": "404c9729-0196-4999-e645-3de677601ee7"
      },
      "execution_count": 9,
      "outputs": [
        {
          "output_type": "stream",
          "name": "stdout",
          "text": [
            "{'name': 'maa', 'age': 21, 'country': 'india'}\n"
          ]
        }
      ]
    },
    {
      "cell_type": "markdown",
      "source": [
        "# operators\n"
      ],
      "metadata": {
        "id": "SkKXaLvd1Jaz"
      }
    },
    {
      "cell_type": "code",
      "source": [
        "print(5**2)"
      ],
      "metadata": {
        "colab": {
          "base_uri": "https://localhost:8080/"
        },
        "id": "--xUx6Sk1H3y",
        "outputId": "77cd71a2-a850-423b-bf36-48c126cd495e"
      },
      "execution_count": 10,
      "outputs": [
        {
          "output_type": "stream",
          "name": "stdout",
          "text": [
            "25\n"
          ]
        }
      ]
    },
    {
      "cell_type": "code",
      "source": [
        "print(5>2 and 3>1)\n",
        "print(5>2 or 3<1)\n",
        "print(not(5>2 and 3>1))"
      ],
      "metadata": {
        "colab": {
          "base_uri": "https://localhost:8080/"
        },
        "id": "iQYYEj9t4oOu",
        "outputId": "d19a25d7-86b1-4478-e869-a62773176d1a"
      },
      "execution_count": 13,
      "outputs": [
        {
          "output_type": "stream",
          "name": "stdout",
          "text": [
            "True\n",
            "True\n",
            "False\n"
          ]
        }
      ]
    },
    {
      "cell_type": "code",
      "source": [
        "print(5 is 5)\n",
        "print(5 is not 5)"
      ],
      "metadata": {
        "colab": {
          "base_uri": "https://localhost:8080/"
        },
        "id": "Hdbs3EDv45VC",
        "outputId": "babbe8ef-c697-4db4-dd09-4c107e17f8e0"
      },
      "execution_count": 15,
      "outputs": [
        {
          "output_type": "stream",
          "name": "stdout",
          "text": [
            "True\n",
            "False\n"
          ]
        },
        {
          "output_type": "stream",
          "name": "stderr",
          "text": [
            "<>:1: SyntaxWarning: \"is\" with a literal. Did you mean \"==\"?\n",
            "<>:2: SyntaxWarning: \"is not\" with a literal. Did you mean \"!=\"?\n",
            "<>:1: SyntaxWarning: \"is\" with a literal. Did you mean \"==\"?\n",
            "<>:2: SyntaxWarning: \"is not\" with a literal. Did you mean \"!=\"?\n",
            "<ipython-input-15-82a561dbeb3c>:1: SyntaxWarning: \"is\" with a literal. Did you mean \"==\"?\n",
            "  print(5 is 5)\n",
            "<ipython-input-15-82a561dbeb3c>:2: SyntaxWarning: \"is not\" with a literal. Did you mean \"!=\"?\n",
            "  print(5 is not 5)\n"
          ]
        }
      ]
    },
    {
      "cell_type": "markdown",
      "source": [
        "membership operator\n",
        "in\n",
        "not in"
      ],
      "metadata": {
        "id": "Iv3dG_Ff5XPk"
      }
    },
    {
      "cell_type": "code",
      "source": [
        "a=5\n",
        "b=10\n",
        "list1=[1,2,3,4,5]\n",
        "print(a in list1)\n",
        "print(b in list1)\n",
        "print(a not in list1)"
      ],
      "metadata": {
        "colab": {
          "base_uri": "https://localhost:8080/"
        },
        "id": "pEc_BhMa5PlQ",
        "outputId": "b42c864c-7e90-411c-e3f1-1139587f6b2f"
      },
      "execution_count": 16,
      "outputs": [
        {
          "output_type": "stream",
          "name": "stdout",
          "text": [
            "True\n",
            "False\n",
            "False\n"
          ]
        }
      ]
    },
    {
      "cell_type": "markdown",
      "source": [
        "# if else, loop and function"
      ],
      "metadata": {
        "id": "R5rEWAEK5tyT"
      }
    },
    {
      "cell_type": "code",
      "source": [
        "if(5>2):\n",
        "  print(\"5 is greater than 2\")\n",
        "else :\n",
        "  print(\"h\")\n"
      ],
      "metadata": {
        "colab": {
          "base_uri": "https://localhost:8080/"
        },
        "id": "BucR6hvw5iFg",
        "outputId": "c13ff5b0-61ae-4574-fbb7-3d546e0ebdbf"
      },
      "execution_count": 18,
      "outputs": [
        {
          "output_type": "stream",
          "name": "stdout",
          "text": [
            "5 is greater than 2\n"
          ]
        }
      ]
    },
    {
      "cell_type": "code",
      "source": [
        "for i in range(5):\n",
        "  print(i)"
      ],
      "metadata": {
        "colab": {
          "base_uri": "https://localhost:8080/"
        },
        "id": "M5Gq7en458pw",
        "outputId": "1af26fec-5683-43e7-eee1-e6dd755a71e8"
      },
      "execution_count": 23,
      "outputs": [
        {
          "output_type": "stream",
          "name": "stdout",
          "text": [
            "0\n",
            "1\n",
            "2\n",
            "3\n",
            "4\n"
          ]
        }
      ]
    },
    {
      "cell_type": "code",
      "source": [
        "numb = [50,100,150,200]\n",
        "for i in numb:\n",
        "  print(i)\n",
        "for i in range(4):\n",
        "  print(numb[i])\n",
        "\n"
      ],
      "metadata": {
        "colab": {
          "base_uri": "https://localhost:8080/"
        },
        "id": "1nREQ4mA6eTo",
        "outputId": "68b81971-6fa0-44c4-8c8f-518b515f26c6"
      },
      "execution_count": 24,
      "outputs": [
        {
          "output_type": "stream",
          "name": "stdout",
          "text": [
            "50\n",
            "100\n",
            "150\n",
            "200\n",
            "50\n",
            "100\n",
            "150\n",
            "200\n"
          ]
        }
      ]
    },
    {
      "cell_type": "markdown",
      "source": [
        "factorial of number"
      ],
      "metadata": {
        "id": "jJqsrjvwBTH2"
      }
    },
    {
      "cell_type": "code",
      "source": [
        "n= int(input(\"enter\"))\n",
        "f=1\n",
        "if(f==0):\n",
        "  print(1)\n",
        "else :\n",
        "  for i in range(1,n+1):\n",
        "    f=f*i\n",
        "  print(f)"
      ],
      "metadata": {
        "colab": {
          "base_uri": "https://localhost:8080/"
        },
        "id": "nAmHQvSmAcFF",
        "outputId": "42180bb9-8746-4842-a9d7-df518a663446"
      },
      "execution_count": 28,
      "outputs": [
        {
          "output_type": "stream",
          "name": "stdout",
          "text": [
            "enter5\n",
            "120\n"
          ]
        }
      ]
    },
    {
      "cell_type": "markdown",
      "source": [
        "with function and recursion"
      ],
      "metadata": {
        "id": "ZIKrvMBBCXr7"
      }
    },
    {
      "cell_type": "code",
      "source": [
        "def fact(n):\n",
        "  f=1\n",
        "  if(n==0):\n",
        "    f=1\n",
        "  else :\n",
        "    f=n*fact(n-1)\n",
        "\n",
        "  return f;"
      ],
      "metadata": {
        "id": "u_W6dnTICZTD"
      },
      "execution_count": 32,
      "outputs": []
    },
    {
      "cell_type": "code",
      "source": [
        "print(fact(5))"
      ],
      "metadata": {
        "colab": {
          "base_uri": "https://localhost:8080/"
        },
        "id": "rxpce-CtDF96",
        "outputId": "94277f87-bd99-468a-d632-b707798acd17"
      },
      "execution_count": 34,
      "outputs": [
        {
          "output_type": "stream",
          "name": "stdout",
          "text": [
            "120\n"
          ]
        }
      ]
    },
    {
      "cell_type": "code",
      "source": [],
      "metadata": {
        "id": "IVtatd-JDI50"
      },
      "execution_count": null,
      "outputs": []
    }
  ]
}